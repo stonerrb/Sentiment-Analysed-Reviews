{
 "cells": [
  {
   "cell_type": "code",
   "execution_count": 6,
   "metadata": {},
   "outputs": [
    {
     "name": "stderr",
     "output_type": "stream",
     "text": [
      "[nltk_data] Downloading package stopwords to\n",
      "[nltk_data]     C:\\Users\\Rushabh\\AppData\\Roaming\\nltk_data...\n",
      "[nltk_data]   Package stopwords is already up-to-date!\n"
     ]
    }
   ],
   "source": [
    "# all process till data cleaning will be same except for fresh reviews\n",
    "# importing the libraries\n",
    "import pandas as pd\n",
    "import numpy as np\n",
    "\n",
    "# importing the dataset\n",
    "dataset = pd.read_csv('a2_RestaurantReviews_FreshDump.tsv',delimiter= '\\t', quoting=3)\n",
    "\n",
    "# DATA CLEANING (most imp)\n",
    "import regex\n",
    "import nltk\n",
    "\n",
    "nltk.download('stopwords')\n",
    "\n",
    "from nltk.corpus import stopwords\n",
    "from nltk.stem.porter import PorterStemmer\n",
    "ps = PorterStemmer()\n",
    "\n",
    "all_stopwords = stopwords.words('english')\n",
    "all_stopwords.remove('not')\n",
    "\n",
    "# Corpus - review post data cleaning\n",
    "corpus=[]\n",
    "\n",
    "for i in range(0,100):\n",
    "    review = regex.sub('[^a-zA-Z]',' ', dataset['Review'][i])  #removing spaces fullstops etc\n",
    "    review = review.lower() #lowercasing everything\n",
    "    review = review.split() #Splits an input string into an array of substrings\n",
    "    review = [ps.stem(word) for word in review if not word in set(all_stopwords)]\n",
    "    review = ' '.join(review)\n",
    "    corpus.append(review)"
   ]
  },
  {
   "cell_type": "code",
   "execution_count": 7,
   "metadata": {},
   "outputs": [],
   "source": [
    "# loading the classifier \n",
    "from sklearn.feature_extraction.text import CountVectorizer\n",
    "import pickle \n",
    "cvFile = 'BOW_Sentiment.pkl'\n",
    "cv = pickle.load(open(cvFile,\"rb\"))"
   ]
  },
  {
   "cell_type": "code",
   "execution_count": 8,
   "metadata": {},
   "outputs": [
    {
     "data": {
      "text/plain": [
       "(100, 1420)"
      ]
     },
     "execution_count": 8,
     "metadata": {},
     "output_type": "execute_result"
    }
   ],
   "source": [
    "X_fresh = cv.transform(corpus).toarray()\n",
    "X_fresh.shape"
   ]
  },
  {
   "cell_type": "code",
   "execution_count": 9,
   "metadata": {},
   "outputs": [],
   "source": [
    "#loading classifier from train\n",
    "import joblib\n",
    "classifier = joblib.load('Project2_Sentiment_Analysis')"
   ]
  },
  {
   "cell_type": "code",
   "execution_count": 10,
   "metadata": {},
   "outputs": [
    {
     "name": "stdout",
     "output_type": "stream",
     "text": [
      "[0 1 1 0 0 1 0 0 0 1 1 0 0 1 0 1 0 0 0 1 0 0 1 0 0 0 0 0 0 0 0 0 0 0 0 0 0\n",
      " 0 1 0 0 0 0 0 1 0 1 0 0 1 0 0 1 0 0 0 0 0 0 0 0 1 0 0 0 0 0 0 1 0 0 1 1 0\n",
      " 0 1 0 0 0 0 1 0 0 1 0 1 0 0 0 0 0 0 0 1 0 0 0 0 0 0]\n"
     ]
    }
   ],
   "source": [
    "y_pred = classifier.predict(X_fresh)\n",
    "print(y_pred)"
   ]
  },
  {
   "cell_type": "code",
   "execution_count": 11,
   "metadata": {},
   "outputs": [
    {
     "data": {
      "text/plain": [
       "<bound method NDFrame.head of                                                Review  predicted_label\n",
       "0                         Spend your money elsewhere.                0\n",
       "1   Their regular toasted bread was equally satisf...                1\n",
       "2   The Buffet at Bellagio was far from what I ant...                1\n",
       "3                    And the drinks are WEAK, people!                0\n",
       "4                          -My order was not correct.                0\n",
       "..                                                ...              ...\n",
       "95  I think food should have flavor and texture an...                0\n",
       "96                           Appetite instantly gone.                0\n",
       "97  Overall I was not impressed and would not go b...                0\n",
       "98  The whole experience was underwhelming, and I ...                0\n",
       "99  Then, as if I hadn't wasted enough of my life ...                0\n",
       "\n",
       "[100 rows x 2 columns]>"
      ]
     },
     "execution_count": 11,
     "metadata": {},
     "output_type": "execute_result"
    }
   ],
   "source": [
    "dataset['predicted_label'] = y_pred.tolist()\n",
    "dataset.head"
   ]
  },
  {
   "cell_type": "code",
   "execution_count": null,
   "metadata": {},
   "outputs": [],
   "source": [
    "#making all into a csv/tsv\n",
    "dataset.to_csv(\"predicted_fresh.tsv\",sep=\"\\t\",encoding='UTF-8',index=False)"
   ]
  }
 ],
 "metadata": {
  "kernelspec": {
   "display_name": "ML",
   "language": "python",
   "name": "python3"
  },
  "language_info": {
   "codemirror_mode": {
    "name": "ipython",
    "version": 3
   },
   "file_extension": ".py",
   "mimetype": "text/x-python",
   "name": "python",
   "nbconvert_exporter": "python",
   "pygments_lexer": "ipython3",
   "version": "3.9.12"
  },
  "orig_nbformat": 4
 },
 "nbformat": 4,
 "nbformat_minor": 2
}
